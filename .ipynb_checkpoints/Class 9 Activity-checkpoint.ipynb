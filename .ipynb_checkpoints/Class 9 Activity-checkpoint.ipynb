{
 "cells": [
  {
   "cell_type": "code",
   "execution_count": 3,
   "metadata": {
    "collapsed": false
   },
   "outputs": [
    {
     "name": "stdout",
     "output_type": "stream",
     "text": [
      "n\n",
      "s\n",
      "h\n",
      "t\n"
     ]
    }
   ],
   "source": [
    "dict_ex = {'Name':['Andy', 'Alex'], \n",
    "           'Song':['Scar Tissue', 'Suitcase'],\n",
    "          'GitHub':['andyschneider85','alexng'],\n",
    "          'Twitter':['andys','alextwitter']}\n",
    "\n",
    "for i in dict_ex.items():\n",
    "    print(i[0],':',i[1][0])\n",
    "    print(i[0],':',i[1][1])\n",
    "\n",
    "for i in dict_ex.items():\n",
    "    print(\"{}: {}\".format(i[0],i[1][0]))\n",
    "    print(\"{}: {}\".format(i[0],i[1][1]))\n",
    "        \n",
    "\n",
    "    \n",
    "#Create a loop so that you get the following output: \n",
    "#Name: Name1 Song: Song1 GitHub: GitHub1 Twitter: Twitter1 \n",
    "#Name: Name2 Song: Song2 GitHub: GitHub2 Twitter: Twitter2\n",
    "# .keys()\n",
    "# .values()\n",
    "# .items()"
   ]
  },
  {
   "cell_type": "code",
   "execution_count": null,
   "metadata": {
    "collapsed": true
   },
   "outputs": [],
   "source": []
  }
 ],
 "metadata": {
  "anaconda-cloud": {},
  "kernelspec": {
   "display_name": "Python [default]",
   "language": "python",
   "name": "python3"
  },
  "language_info": {
   "codemirror_mode": {
    "name": "ipython",
    "version": 3
   },
   "file_extension": ".py",
   "mimetype": "text/x-python",
   "name": "python",
   "nbconvert_exporter": "python",
   "pygments_lexer": "ipython3",
   "version": "3.5.2"
  }
 },
 "nbformat": 4,
 "nbformat_minor": 2
}
